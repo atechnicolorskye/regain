{
 "cells": [
  {
   "cell_type": "code",
   "execution_count": 1,
   "metadata": {},
   "outputs": [],
   "source": [
    "import numpy as np\n",
    "\n",
    "import matplotlib.pyplot as plt\n",
    "%matplotlib inline\n",
    "\n",
    "from regain.covariance import TimeGraphicalLasso"
   ]
  },
  {
   "cell_type": "code",
   "execution_count": 2,
   "metadata": {},
   "outputs": [],
   "source": [
    "with np.load('../draws_sim_p_10_f_3_T_100_b_10000_d_10000.npz') as data_:\n",
    "    data = data_['arr_0']\n",
    "data = data[:, :, 0:50, 0:30]"
   ]
  },
  {
   "cell_type": "code",
   "execution_count": 3,
   "metadata": {},
   "outputs": [],
   "source": [
    "alpha = [0, 5, 10, 15, 20]\n",
    "beta = 10"
   ]
  },
  {
   "cell_type": "code",
   "execution_count": null,
   "metadata": {},
   "outputs": [
    {
     "name": "stdout",
     "output_type": "stream",
     "text": [
      "> /Users/sky/Dropbox/Research/post_sum/code/regain/regain/covariance/time_graphical_lasso_.py(154)time_graphical_lasso()\n",
      "-> Z_0 = init_precision(emp_cov, mode=init)\n",
      "(Pdb) emp_cov.shape\n",
      "(30, 10, 10)\n",
      "(Pdb) weights.shape\n",
      "(30, 30)\n"
     ]
    }
   ],
   "source": [
    "fig, ax = plt.subplots(figsize=(20, 10))\n",
    "colors = \"bgrcmykw\"\n",
    "color_index = 0\n",
    "\n",
    "for i in alpha:\n",
    "    emp_diff, sam_diff = TimeGraphicalLasso(alpha=i, beta=beta, max_iter=1000, psi='kernel', gamma=0.9).fit_cov(data).eval_pre(data)\n",
    "    std = np.std(sam_diff, 1)\n",
    "\n",
    "    ax.plot(range(30), emp_diff, color=colors[color_index], alpha=0.5, label=r'$\\alpha$ = {}'.format(i))\n",
    "    ax.fill_between(range(30), emp_diff, emp_diff - std, color=colors[color_index], alpha=0.2)\n",
    "    ax.fill_between(range(30), emp_diff, emp_diff + std, color=colors[color_index], alpha=0.2)\n",
    "    color_index += 1\n",
    "\n",
    "fig.legend()\n",
    "ax.set_ylabel('Difference in Log Likelihood')\n",
    "ax.set_xlabel('Time t')\n",
    "ax.set_title(r'Difference in Losses across $\\alpha$s')  "
   ]
  },
  {
   "cell_type": "code",
   "execution_count": null,
   "metadata": {},
   "outputs": [],
   "source": []
  }
 ],
 "metadata": {
  "kernelspec": {
   "display_name": "Python 3",
   "language": "python",
   "name": "python3"
  },
  "language_info": {
   "codemirror_mode": {
    "name": "ipython",
    "version": 3
   },
   "file_extension": ".py",
   "mimetype": "text/x-python",
   "name": "python",
   "nbconvert_exporter": "python",
   "pygments_lexer": "ipython3",
   "version": "3.7.4"
  }
 },
 "nbformat": 4,
 "nbformat_minor": 4
}
